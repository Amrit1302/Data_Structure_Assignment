{
 "cells": [
  {
   "cell_type": "code",
   "execution_count": 1,
   "id": "705d4ca9-6a52-4680-9d4e-f2d7b8e23e71",
   "metadata": {},
   "outputs": [],
   "source": [
    "#Q1. Discuss string slicing and provide examples.\n",
    "#Ans. Python slicing is a method to obtaining a sub-string from the given string by slicing it respectively from start to end."
   ]
  },
  {
   "cell_type": "code",
   "execution_count": 2,
   "id": "0e3f293a-5bfb-4ba4-9534-d0a55f429eb2",
   "metadata": {},
   "outputs": [
    {
     "data": {
      "text/plain": [
       "'I am'"
      ]
     },
     "execution_count": 2,
     "metadata": {},
     "output_type": "execute_result"
    }
   ],
   "source": [
    "string1 = \"I am a good student\"\n",
    "string1[0:4]"
   ]
  },
  {
   "cell_type": "code",
   "execution_count": 3,
   "id": "da848a32-69d7-49d7-b18e-6b7b34396956",
   "metadata": {},
   "outputs": [
    {
     "data": {
      "text/plain": [
       "'a good '"
      ]
     },
     "execution_count": 3,
     "metadata": {},
     "output_type": "execute_result"
    }
   ],
   "source": [
    "string1[5:12]"
   ]
  },
  {
   "cell_type": "code",
   "execution_count": 4,
   "id": "37773383-6083-4505-bee1-b5948c1d362e",
   "metadata": {},
   "outputs": [
    {
     "data": {
      "text/plain": [
       "'I am a good student'"
      ]
     },
     "execution_count": 4,
     "metadata": {},
     "output_type": "execute_result"
    }
   ],
   "source": [
    "string1[0:]"
   ]
  },
  {
   "cell_type": "code",
   "execution_count": 5,
   "id": "a8a23587-a144-4216-9bb2-9962a7376c1a",
   "metadata": {},
   "outputs": [],
   "source": [
    "string2 = \"hello world!\""
   ]
  },
  {
   "cell_type": "code",
   "execution_count": 6,
   "id": "8fefa912-f813-49d8-bc4b-ae7992ccf382",
   "metadata": {},
   "outputs": [
    {
     "data": {
      "text/plain": [
       "'hello'"
      ]
     },
     "execution_count": 6,
     "metadata": {},
     "output_type": "execute_result"
    }
   ],
   "source": [
    "string2[0:5:1]"
   ]
  },
  {
   "cell_type": "code",
   "execution_count": 7,
   "id": "cd04f6c1-0a91-4681-9e37-6cc6ad54d645",
   "metadata": {},
   "outputs": [
    {
     "data": {
      "text/plain": [
       "'hello world!'"
      ]
     },
     "execution_count": 7,
     "metadata": {},
     "output_type": "execute_result"
    }
   ],
   "source": [
    "string2[::1]"
   ]
  },
  {
   "cell_type": "code",
   "execution_count": 8,
   "id": "4a0cbd32-693d-4a4a-8840-9240fd996684",
   "metadata": {},
   "outputs": [
    {
     "data": {
      "text/plain": [
       "'hlowrd'"
      ]
     },
     "execution_count": 8,
     "metadata": {},
     "output_type": "execute_result"
    }
   ],
   "source": [
    "string2[::2]"
   ]
  },
  {
   "cell_type": "code",
   "execution_count": null,
   "id": "aa802d33-15b6-47fd-9e4a-5f20a5a29abe",
   "metadata": {},
   "outputs": [],
   "source": [
    "#Q2. Explain the key features of lists in Python.\n",
    "#Ans. Below are the key features of lists :-"
   ]
  },
  {
   "cell_type": "code",
   "execution_count": null,
   "id": "ec01910f-4136-4cf6-bbc0-0ff367ac073b",
   "metadata": {},
   "outputs": [],
   "source": [
    "#a. List are ordered collection of items"
   ]
  },
  {
   "cell_type": "code",
   "execution_count": 9,
   "id": "709a05cc-ab5e-4254-a4c0-5344076050c0",
   "metadata": {},
   "outputs": [
    {
     "data": {
      "text/plain": [
       "list"
      ]
     },
     "execution_count": 9,
     "metadata": {},
     "output_type": "execute_result"
    }
   ],
   "source": [
    "#b. List is a collection of things, enclosed in [ ] and separated by commas.\n",
    "type([])"
   ]
  },
  {
   "cell_type": "code",
   "execution_count": 12,
   "id": "99ac9df1-0629-404a-8de9-68a3647869bd",
   "metadata": {},
   "outputs": [
    {
     "data": {
      "text/plain": [
       "list"
      ]
     },
     "execution_count": 12,
     "metadata": {},
     "output_type": "execute_result"
    }
   ],
   "source": [
    "#c. List is like a shopping bag which can store everthing, any data type.\n",
    "grocery_list = [\"Milk\", \"Orange\", 1, 2.2, True, 3+5j]\n",
    "type(grocery_list)"
   ]
  },
  {
   "cell_type": "code",
   "execution_count": 13,
   "id": "188ec248-a42c-4130-a64b-3682d272c084",
   "metadata": {},
   "outputs": [
    {
     "data": {
      "text/plain": [
       "'Milk'"
      ]
     },
     "execution_count": 13,
     "metadata": {},
     "output_type": "execute_result"
    }
   ],
   "source": [
    "#d. Lists are mutable\n",
    "grocery_list[0]"
   ]
  },
  {
   "cell_type": "code",
   "execution_count": 15,
   "id": "c499b3e8-fec7-4a67-800d-ba88931ac279",
   "metadata": {},
   "outputs": [
    {
     "data": {
      "text/plain": [
       "['Milk', 'Orange', 1, 2.2, True, (3+5j)]"
      ]
     },
     "execution_count": 15,
     "metadata": {},
     "output_type": "execute_result"
    }
   ],
   "source": [
    "#Q3. Describe how to access, modify, and delete elements in a list with examples.\n",
    "#Ans. As list are mutable then we can access, modify and delete the elements.\n",
    "grocery_list"
   ]
  },
  {
   "cell_type": "code",
   "execution_count": 16,
   "id": "6bc309f6-8b1b-4974-9705-0aafba22a5e9",
   "metadata": {},
   "outputs": [
    {
     "data": {
      "text/plain": [
       "'Milk'"
      ]
     },
     "execution_count": 16,
     "metadata": {},
     "output_type": "execute_result"
    }
   ],
   "source": [
    "grocery_list[0]"
   ]
  },
  {
   "cell_type": "code",
   "execution_count": 17,
   "id": "085f3332-b953-4e98-af5d-dbbe5b14d1e4",
   "metadata": {},
   "outputs": [
    {
     "data": {
      "text/plain": [
       "(3+5j)"
      ]
     },
     "execution_count": 17,
     "metadata": {},
     "output_type": "execute_result"
    }
   ],
   "source": [
    "grocery_list[-1]"
   ]
  },
  {
   "cell_type": "code",
   "execution_count": 18,
   "id": "ab62f700-92dd-4433-bac2-f03c416182bd",
   "metadata": {},
   "outputs": [],
   "source": [
    "grocery_list.append(\"Banana\")"
   ]
  },
  {
   "cell_type": "code",
   "execution_count": 19,
   "id": "90c02df4-f38c-448d-a49a-10760dcae8cd",
   "metadata": {},
   "outputs": [
    {
     "data": {
      "text/plain": [
       "['Milk', 'Orange', 1, 2.2, True, (3+5j), 'Banana']"
      ]
     },
     "execution_count": 19,
     "metadata": {},
     "output_type": "execute_result"
    }
   ],
   "source": [
    "grocery_list"
   ]
  },
  {
   "cell_type": "code",
   "execution_count": 20,
   "id": "2e8a2b22-fa85-4f56-bb96-c68e7ca574da",
   "metadata": {},
   "outputs": [],
   "source": [
    "grocery_list.insert(1,\"Bread\")"
   ]
  },
  {
   "cell_type": "code",
   "execution_count": 21,
   "id": "55f85be6-bdf6-42ea-bd0e-06b757efd163",
   "metadata": {},
   "outputs": [
    {
     "data": {
      "text/plain": [
       "['Milk', 'Bread', 'Orange', 1, 2.2, True, (3+5j), 'Banana']"
      ]
     },
     "execution_count": 21,
     "metadata": {},
     "output_type": "execute_result"
    }
   ],
   "source": [
    "grocery_list"
   ]
  },
  {
   "cell_type": "code",
   "execution_count": 22,
   "id": "81e518e1-107d-4863-a50e-c934e3487634",
   "metadata": {},
   "outputs": [],
   "source": [
    "grocery_list1 = [\"Powder\", \"Sugar\"]\n",
    "grocery_list1.extend(grocery_list)"
   ]
  },
  {
   "cell_type": "code",
   "execution_count": 23,
   "id": "0fd94f96-7c6b-47bf-8175-67c1e455a952",
   "metadata": {},
   "outputs": [
    {
     "data": {
      "text/plain": [
       "['Powder', 'Sugar', 'Milk', 'Bread', 'Orange', 1, 2.2, True, (3+5j), 'Banana']"
      ]
     },
     "execution_count": 23,
     "metadata": {},
     "output_type": "execute_result"
    }
   ],
   "source": [
    "grocery_list1"
   ]
  },
  {
   "cell_type": "code",
   "execution_count": 24,
   "id": "729f0e77-3551-4271-9cb1-ff3f5028c44b",
   "metadata": {},
   "outputs": [],
   "source": [
    "grocery_list1.remove(\"Bread\")"
   ]
  },
  {
   "cell_type": "code",
   "execution_count": 25,
   "id": "ec4a12ba-9a23-45be-8017-4f560e639558",
   "metadata": {},
   "outputs": [
    {
     "data": {
      "text/plain": [
       "['Powder', 'Sugar', 'Milk', 'Orange', 1, 2.2, True, (3+5j), 'Banana']"
      ]
     },
     "execution_count": 25,
     "metadata": {},
     "output_type": "execute_result"
    }
   ],
   "source": [
    "grocery_list1"
   ]
  },
  {
   "cell_type": "code",
   "execution_count": 26,
   "id": "69b43533-6bb3-49b2-b40a-2a711aaece10",
   "metadata": {},
   "outputs": [],
   "source": [
    "#Q4. Compare and contrast tuples and lists with examples.\n",
    "#Ans. #a. List are mutable but tuples are immutable.\n",
    "      #b. In list the implication of iterations is Time-consuming than Tuples.\n",
    "      #c. List consume more memory than Tuples.\n",
    "      #d. List and Tuples both are allowing to access index, slicing & concatenation."
   ]
  },
  {
   "cell_type": "code",
   "execution_count": 31,
   "id": "152dfeb6-92f6-4997-bb95-ac46bdc679ec",
   "metadata": {},
   "outputs": [
    {
     "data": {
      "text/plain": [
       "[9, 2, 3, 4]"
      ]
     },
     "execution_count": 31,
     "metadata": {},
     "output_type": "execute_result"
    }
   ],
   "source": [
    "list = [1, 2, 3, 4]\n",
    "list\n",
    "\n",
    "list[0] = 9\n",
    "list"
   ]
  },
  {
   "cell_type": "code",
   "execution_count": 32,
   "id": "4e7ad856-f14d-4b29-977e-48c88d40366d",
   "metadata": {},
   "outputs": [
    {
     "data": {
      "text/plain": [
       "(1, 2, 3, 4)"
      ]
     },
     "execution_count": 32,
     "metadata": {},
     "output_type": "execute_result"
    }
   ],
   "source": [
    "tuple = (1, 2, 3, 4)\n",
    "tuple"
   ]
  },
  {
   "cell_type": "code",
   "execution_count": 34,
   "id": "2ec94c8b-35b8-4a22-ae2f-1df0f79c6c8f",
   "metadata": {},
   "outputs": [
    {
     "ename": "SyntaxError",
     "evalue": "cannot assign to function call here. Maybe you meant '==' instead of '='? (2438191383.py, line 1)",
     "output_type": "error",
     "traceback": [
      "\u001b[0;36m  Cell \u001b[0;32mIn[34], line 1\u001b[0;36m\u001b[0m\n\u001b[0;31m    tuple(0) = 9\u001b[0m\n\u001b[0m    ^\u001b[0m\n\u001b[0;31mSyntaxError\u001b[0m\u001b[0;31m:\u001b[0m cannot assign to function call here. Maybe you meant '==' instead of '='?\n"
     ]
    }
   ],
   "source": [
    "tuple(0) = 9"
   ]
  },
  {
   "cell_type": "code",
   "execution_count": 35,
   "id": "2fee086d-09fd-415d-881d-4e67c32a8671",
   "metadata": {},
   "outputs": [
    {
     "data": {
      "text/plain": [
       "[1, 2, 3, 4, 5, 6, 7, 8]"
      ]
     },
     "execution_count": 35,
     "metadata": {},
     "output_type": "execute_result"
    }
   ],
   "source": [
    "#Concetanation\n",
    "list1 = [1, 2, 3, 4]\n",
    "list2 = [5, 6, 7, 8]\n",
    "\n",
    "list1 + list2"
   ]
  },
  {
   "cell_type": "code",
   "execution_count": 36,
   "id": "44eb9d24-7e46-466c-bec8-47bbe0610102",
   "metadata": {},
   "outputs": [
    {
     "data": {
      "text/plain": [
       "(1, 2, 3, 4, 5, 6, 7, 8)"
      ]
     },
     "execution_count": 36,
     "metadata": {},
     "output_type": "execute_result"
    }
   ],
   "source": [
    "tuple1 = (1, 2, 3, 4)\n",
    "tuple2 = (5, 6, 7, 8)\n",
    "tuple1 + tuple2"
   ]
  },
  {
   "cell_type": "code",
   "execution_count": 38,
   "id": "fe91d160-2185-440f-97ae-a3af4e76893b",
   "metadata": {},
   "outputs": [
    {
     "data": {
      "text/plain": [
       "[1, 2, 3, 4, 9]"
      ]
     },
     "execution_count": 38,
     "metadata": {},
     "output_type": "execute_result"
    }
   ],
   "source": [
    "list1 = [1, 2, 3, 4]\n",
    "list1.append(9)\n",
    "list1"
   ]
  },
  {
   "cell_type": "code",
   "execution_count": 39,
   "id": "16bfb5ff-a86e-4e1b-8354-e380df974828",
   "metadata": {},
   "outputs": [
    {
     "ename": "AttributeError",
     "evalue": "'tuple' object has no attribute 'append'",
     "output_type": "error",
     "traceback": [
      "\u001b[0;31m---------------------------------------------------------------------------\u001b[0m",
      "\u001b[0;31mAttributeError\u001b[0m                            Traceback (most recent call last)",
      "Cell \u001b[0;32mIn[39], line 2\u001b[0m\n\u001b[1;32m      1\u001b[0m \u001b[38;5;28mtuple\u001b[39m \u001b[38;5;241m=\u001b[39m (\u001b[38;5;241m1\u001b[39m, \u001b[38;5;241m2\u001b[39m, \u001b[38;5;241m3\u001b[39m, \u001b[38;5;241m4\u001b[39m)\n\u001b[0;32m----> 2\u001b[0m \u001b[38;5;28;43mtuple\u001b[39;49m\u001b[38;5;241;43m.\u001b[39;49m\u001b[43mappend\u001b[49m(\u001b[38;5;241m9\u001b[39m)\n\u001b[1;32m      3\u001b[0m \u001b[38;5;28mtuple\u001b[39m\n",
      "\u001b[0;31mAttributeError\u001b[0m: 'tuple' object has no attribute 'append'"
     ]
    }
   ],
   "source": [
    "tuple = (1, 2, 3, 4)\n",
    "tuple.append(9)\n",
    "tuple"
   ]
  },
  {
   "cell_type": "code",
   "execution_count": 40,
   "id": "fdbeab81-8213-4399-b98f-7ad674f86c95",
   "metadata": {},
   "outputs": [],
   "source": [
    "#Q5. Describe the key features of sets and provide examples of their use.\n",
    "#Ans. #a. Sets are unordered and unique collection of elements.\n",
    "      #b. Doesn't allow duplicate elements\n",
    "      #c. Unordered >>> indexing will not work"
   ]
  },
  {
   "cell_type": "code",
   "execution_count": 41,
   "id": "f5299b0c-2793-4ed9-abce-80f09048957c",
   "metadata": {},
   "outputs": [
    {
     "data": {
      "text/plain": [
       "set"
      ]
     },
     "execution_count": 41,
     "metadata": {},
     "output_type": "execute_result"
    }
   ],
   "source": [
    "s = {1, 2, 3, 4}\n",
    "type(s)"
   ]
  },
  {
   "cell_type": "code",
   "execution_count": 42,
   "id": "1a7b2ec4-dc28-48b6-8f4e-c74e1e92a2b9",
   "metadata": {},
   "outputs": [
    {
     "data": {
      "text/plain": [
       "[1, 2, 3, 2, 'Apple', 'Apple', 'Banana', 'Banana']"
      ]
     },
     "execution_count": 42,
     "metadata": {},
     "output_type": "execute_result"
    }
   ],
   "source": [
    "list1 = [1, 2, 3, 2, \"Apple\", \"Apple\", \"Banana\", \"Banana\"]\n",
    "list1"
   ]
  },
  {
   "cell_type": "code",
   "execution_count": 43,
   "id": "2191e206-cca2-491c-9c6b-7ebd90ac4305",
   "metadata": {},
   "outputs": [
    {
     "data": {
      "text/plain": [
       "{1, 2, 3, 'Apple', 'Banana'}"
      ]
     },
     "execution_count": 43,
     "metadata": {},
     "output_type": "execute_result"
    }
   ],
   "source": [
    "s = set(list1)\n",
    "s"
   ]
  },
  {
   "cell_type": "code",
   "execution_count": 44,
   "id": "7bf44594-089b-4d10-a0dd-31ff35c0250f",
   "metadata": {},
   "outputs": [
    {
     "ename": "TypeError",
     "evalue": "'set' object is not callable",
     "output_type": "error",
     "traceback": [
      "\u001b[0;31m---------------------------------------------------------------------------\u001b[0m",
      "\u001b[0;31mTypeError\u001b[0m                                 Traceback (most recent call last)",
      "Cell \u001b[0;32mIn[44], line 1\u001b[0m\n\u001b[0;32m----> 1\u001b[0m \u001b[43ms\u001b[49m\u001b[43m(\u001b[49m\u001b[38;5;241;43m0\u001b[39;49m\u001b[43m)\u001b[49m\n",
      "\u001b[0;31mTypeError\u001b[0m: 'set' object is not callable"
     ]
    }
   ],
   "source": [
    "s(0)"
   ]
  },
  {
   "cell_type": "code",
   "execution_count": 45,
   "id": "0cb4fdfb-69b3-466f-a071-5978aa8ce26e",
   "metadata": {},
   "outputs": [
    {
     "ename": "TypeError",
     "evalue": "'set' object is not callable",
     "output_type": "error",
     "traceback": [
      "\u001b[0;31m---------------------------------------------------------------------------\u001b[0m",
      "\u001b[0;31mTypeError\u001b[0m                                 Traceback (most recent call last)",
      "Cell \u001b[0;32mIn[45], line 1\u001b[0m\n\u001b[0;32m----> 1\u001b[0m \u001b[43ms\u001b[49m\u001b[43m(\u001b[49m\u001b[38;5;241;43m1\u001b[39;49m\u001b[43m)\u001b[49m\n",
      "\u001b[0;31mTypeError\u001b[0m: 'set' object is not callable"
     ]
    }
   ],
   "source": [
    "s(1)"
   ]
  },
  {
   "cell_type": "code",
   "execution_count": 46,
   "id": "dd9f5a6c-75ee-4802-9b57-7773c54f95ef",
   "metadata": {},
   "outputs": [
    {
     "data": {
      "text/plain": [
       "{1, 2, 3, 'Apple', 'Banana'}"
      ]
     },
     "execution_count": 46,
     "metadata": {},
     "output_type": "execute_result"
    }
   ],
   "source": [
    "s"
   ]
  },
  {
   "cell_type": "code",
   "execution_count": 47,
   "id": "837a3071-a563-48b8-b630-ca566d2927f4",
   "metadata": {},
   "outputs": [
    {
     "data": {
      "text/plain": [
       "{1, 1000, 2, 3, 'Apple', 'Banana'}"
      ]
     },
     "execution_count": 47,
     "metadata": {},
     "output_type": "execute_result"
    }
   ],
   "source": [
    "s.add(1000)\n",
    "s"
   ]
  },
  {
   "cell_type": "code",
   "execution_count": 48,
   "id": "2232b6b4-6cc7-4011-a621-a122e693888b",
   "metadata": {},
   "outputs": [
    {
     "data": {
      "text/plain": [
       "{1000, 2, 3, 'Apple', 'Banana'}"
      ]
     },
     "execution_count": 48,
     "metadata": {},
     "output_type": "execute_result"
    }
   ],
   "source": [
    "s.pop()\n",
    "s"
   ]
  },
  {
   "cell_type": "code",
   "execution_count": 49,
   "id": "60e9b3cb-8217-45ec-a3ee-dd3e1c3383fe",
   "metadata": {},
   "outputs": [],
   "source": [
    "#Q6. Discuss the use cases of tuples and sets in Python programming.\n",
    "#Ans. Tuple shows the same element but set shows unique element"
   ]
  },
  {
   "cell_type": "code",
   "execution_count": 50,
   "id": "b0319e88-83a2-4c58-b74e-fe434138acee",
   "metadata": {},
   "outputs": [
    {
     "data": {
      "text/plain": [
       "(1, 2, 3, 2, 'Apple', 'Apple', 'Banana', 'Banana')"
      ]
     },
     "execution_count": 50,
     "metadata": {},
     "output_type": "execute_result"
    }
   ],
   "source": [
    "#use case of tuple\n",
    "tuple1 = (1, 2, 3, 2, \"Apple\", \"Apple\", \"Banana\", \"Banana\")\n",
    "tuple1"
   ]
  },
  {
   "cell_type": "code",
   "execution_count": 51,
   "id": "85d5e05f-c1bb-4d34-a207-f93d9085d0d7",
   "metadata": {},
   "outputs": [
    {
     "data": {
      "text/plain": [
       "{1, 2, 3, 'Apple', 'Banana'}"
      ]
     },
     "execution_count": 51,
     "metadata": {},
     "output_type": "execute_result"
    }
   ],
   "source": [
    "#use case of sets\n",
    "set1 = {1, 2, 3, 2, \"Apple\", \"Apple\", \"Banana\", \"Banana\"}\n",
    "set1"
   ]
  },
  {
   "cell_type": "code",
   "execution_count": 52,
   "id": "c7074048-b967-485e-9630-3af3cdfb6c64",
   "metadata": {},
   "outputs": [
    {
     "name": "stdout",
     "output_type": "stream",
     "text": [
      "(1, 2, 3, 2, 'Apple', 'Apple', 'Banana', 'Banana', 1, 2, 3, 2, 'Apple', 'Apple', 'Banana', 'Banana')\n"
     ]
    }
   ],
   "source": [
    "print(tuple1*2)"
   ]
  },
  {
   "cell_type": "code",
   "execution_count": 53,
   "id": "83c9945a-277c-4150-b3a9-fd3657c63da6",
   "metadata": {},
   "outputs": [
    {
     "ename": "TypeError",
     "evalue": "unsupported operand type(s) for *: 'set' and 'int'",
     "output_type": "error",
     "traceback": [
      "\u001b[0;31m---------------------------------------------------------------------------\u001b[0m",
      "\u001b[0;31mTypeError\u001b[0m                                 Traceback (most recent call last)",
      "Cell \u001b[0;32mIn[53], line 1\u001b[0m\n\u001b[0;32m----> 1\u001b[0m \u001b[38;5;28mprint\u001b[39m(\u001b[43mset1\u001b[49m\u001b[38;5;241;43m*\u001b[39;49m\u001b[38;5;241;43m2\u001b[39;49m)\n",
      "\u001b[0;31mTypeError\u001b[0m: unsupported operand type(s) for *: 'set' and 'int'"
     ]
    }
   ],
   "source": [
    "print(set1*2)"
   ]
  },
  {
   "cell_type": "code",
   "execution_count": 54,
   "id": "432f8db6-35cd-43e4-b024-df47d932eb64",
   "metadata": {},
   "outputs": [],
   "source": [
    "#Q7. Describe how to add, modify, and delete items in a dictionary with examples.\n",
    "#Ans. # Dictionary is a data structure that stores data as key value pair\n",
    "      # Keys are unique and immutable"
   ]
  },
  {
   "cell_type": "code",
   "execution_count": 55,
   "id": "e108280c-ce99-44e3-a5a3-89fb30eebdb4",
   "metadata": {},
   "outputs": [
    {
     "data": {
      "text/plain": [
       "{'name': 'Amrit', 'email': 'an@gmail.com', 'contact': 123456}"
      ]
     },
     "execution_count": 55,
     "metadata": {},
     "output_type": "execute_result"
    }
   ],
   "source": [
    "d = {\"name\":\"Amrit\", \"email\":\"an@gmail.com\", \"contact\": 123456}\n",
    "d"
   ]
  },
  {
   "cell_type": "code",
   "execution_count": 56,
   "id": "bfa79054-5ab6-4fff-9e3a-aad0ae74faff",
   "metadata": {},
   "outputs": [
    {
     "data": {
      "text/plain": [
       "'Amrit'"
      ]
     },
     "execution_count": 56,
     "metadata": {},
     "output_type": "execute_result"
    }
   ],
   "source": [
    "d[\"name\"]"
   ]
  },
  {
   "cell_type": "code",
   "execution_count": 67,
   "id": "802d37a0-4b9b-42f8-862d-f33306cf64af",
   "metadata": {},
   "outputs": [
    {
     "data": {
      "text/plain": [
       "{'name': 'Japan', 'email': 'an@gmail.com', 'contact': 123456}"
      ]
     },
     "execution_count": 67,
     "metadata": {},
     "output_type": "execute_result"
    }
   ],
   "source": [
    "d[\"name\"] = \"Japan\" #>>>> Modify Name\n",
    "d"
   ]
  },
  {
   "cell_type": "code",
   "execution_count": 68,
   "id": "21f6c729-6ab0-456c-8e3d-c72e1b8a31eb",
   "metadata": {},
   "outputs": [
    {
     "data": {
      "text/plain": [
       "{'name': 'Japan',\n",
       " 'email': 'an@gmail.com',\n",
       " 'contact': 123456,\n",
       " 'address': 'New Delhi'}"
      ]
     },
     "execution_count": 68,
     "metadata": {},
     "output_type": "execute_result"
    }
   ],
   "source": [
    "d[\"address\"] = \"New Delhi\"   #>>>>> Add\n",
    "d"
   ]
  },
  {
   "cell_type": "code",
   "execution_count": 70,
   "id": "97cad377-4bb2-4778-ad98-9c7a3d4b2c0f",
   "metadata": {},
   "outputs": [],
   "source": [
    "del d[\"address\"]    #>>>>> Deletion"
   ]
  },
  {
   "cell_type": "code",
   "execution_count": 71,
   "id": "9c3bec96-22f4-4214-bed7-24bd5eff9e40",
   "metadata": {},
   "outputs": [
    {
     "data": {
      "text/plain": [
       "{'name': 'Japan', 'email': 'an@gmail.com', 'contact': 123456}"
      ]
     },
     "execution_count": 71,
     "metadata": {},
     "output_type": "execute_result"
    }
   ],
   "source": [
    "d"
   ]
  },
  {
   "cell_type": "code",
   "execution_count": 72,
   "id": "74c305a3-0581-4625-a209-f2e232f966f1",
   "metadata": {},
   "outputs": [],
   "source": [
    "#Q8. Discuss the importance of dictionary keys being immutable and provide examples."
   ]
  },
  {
   "cell_type": "code",
   "execution_count": 73,
   "id": "d09703bf-7829-4d5d-bf50-996dd3bfb668",
   "metadata": {},
   "outputs": [],
   "source": [
    "employee_records = {\n",
    "    'E001': {'name': 'John Doe', 'Department': 'Engineering', 'Salary': 75000},\n",
    "    'E002': {'name': 'John Smith', 'Department': 'Marketing', 'Salary': 65000},\n",
    "    'E003': {'name': 'David Lee', 'Department': 'Finance', 'Salary': 80000},\n",
    "}"
   ]
  },
  {
   "cell_type": "code",
   "execution_count": 74,
   "id": "41222a7e-8c81-49e1-90b4-2c6cc2f850cf",
   "metadata": {},
   "outputs": [
    {
     "data": {
      "text/plain": [
       "dict"
      ]
     },
     "execution_count": 74,
     "metadata": {},
     "output_type": "execute_result"
    }
   ],
   "source": [
    "type(employee_records)"
   ]
  },
  {
   "cell_type": "code",
   "execution_count": 75,
   "id": "c9deb89e-80ca-4694-abf5-eeb2f67210ca",
   "metadata": {},
   "outputs": [
    {
     "data": {
      "text/plain": [
       "{'name': 'John Doe', 'Department': 'Engineering', 'Salary': 75000}"
      ]
     },
     "execution_count": 75,
     "metadata": {},
     "output_type": "execute_result"
    }
   ],
   "source": [
    "employee_records.get(\"E001\")"
   ]
  },
  {
   "cell_type": "code",
   "execution_count": 76,
   "id": "94389ee5-f365-45f0-9a02-258f4a906061",
   "metadata": {},
   "outputs": [
    {
     "data": {
      "text/plain": [
       "dict_keys(['E001', 'E002', 'E003'])"
      ]
     },
     "execution_count": 76,
     "metadata": {},
     "output_type": "execute_result"
    }
   ],
   "source": [
    "employee_records.keys()"
   ]
  },
  {
   "cell_type": "code",
   "execution_count": 77,
   "id": "e4ed1dbf-acea-4200-b81d-d8e4ecf79915",
   "metadata": {},
   "outputs": [
    {
     "data": {
      "text/plain": [
       "dict_values([{'name': 'John Doe', 'Department': 'Engineering', 'Salary': 75000}, {'name': 'John Smith', 'Department': 'Marketing', 'Salary': 65000}, {'name': 'David Lee', 'Department': 'Finance', 'Salary': 80000}])"
      ]
     },
     "execution_count": 77,
     "metadata": {},
     "output_type": "execute_result"
    }
   ],
   "source": [
    "employee_records.values()"
   ]
  },
  {
   "cell_type": "code",
   "execution_count": 78,
   "id": "5bc1b213-1452-4db9-9587-be2949027bab",
   "metadata": {},
   "outputs": [
    {
     "data": {
      "text/plain": [
       "dict_items([('E001', {'name': 'John Doe', 'Department': 'Engineering', 'Salary': 75000}), ('E002', {'name': 'John Smith', 'Department': 'Marketing', 'Salary': 65000}), ('E003', {'name': 'David Lee', 'Department': 'Finance', 'Salary': 80000})])"
      ]
     },
     "execution_count": 78,
     "metadata": {},
     "output_type": "execute_result"
    }
   ],
   "source": [
    "employee_records.items()"
   ]
  },
  {
   "cell_type": "code",
   "execution_count": 79,
   "id": "9cd30662-628d-4845-82af-473be541bcda",
   "metadata": {},
   "outputs": [
    {
     "name": "stdout",
     "output_type": "stream",
     "text": [
      "E001 {'name': 'John Doe', 'Department': 'Engineering', 'Salary': 75000}\n",
      "E002 {'name': 'John Smith', 'Department': 'Marketing', 'Salary': 65000}\n",
      "E003 {'name': 'David Lee', 'Department': 'Finance', 'Salary': 80000}\n"
     ]
    }
   ],
   "source": [
    "for key, value in employee_records.items():\n",
    "    print(key, value)"
   ]
  },
  {
   "cell_type": "code",
   "execution_count": 80,
   "id": "dfb78083-5e1d-4c62-bcd9-73f600267960",
   "metadata": {},
   "outputs": [
    {
     "name": "stdout",
     "output_type": "stream",
     "text": [
      "E001\n",
      "E002\n",
      "E003\n"
     ]
    }
   ],
   "source": [
    "for key in employee_records.keys():\n",
    "    print(key)"
   ]
  },
  {
   "cell_type": "code",
   "execution_count": null,
   "id": "0926876c-9908-4e7e-b9dd-0337b62f1cc8",
   "metadata": {},
   "outputs": [],
   "source": []
  }
 ],
 "metadata": {
  "kernelspec": {
   "display_name": "Python 3 (ipykernel)",
   "language": "python",
   "name": "python3"
  },
  "language_info": {
   "codemirror_mode": {
    "name": "ipython",
    "version": 3
   },
   "file_extension": ".py",
   "mimetype": "text/x-python",
   "name": "python",
   "nbconvert_exporter": "python",
   "pygments_lexer": "ipython3",
   "version": "3.10.8"
  }
 },
 "nbformat": 4,
 "nbformat_minor": 5
}
